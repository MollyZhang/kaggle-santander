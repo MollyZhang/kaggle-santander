{
 "cells": [
  {
   "cell_type": "code",
   "execution_count": 86,
   "metadata": {
    "collapsed": true
   },
   "outputs": [],
   "source": [
    "import pandas as pd\n",
    "import pandas_profiling\n",
    "import numpy as np"
   ]
  },
  {
   "cell_type": "code",
   "execution_count": 91,
   "metadata": {
    "collapsed": true
   },
   "outputs": [],
   "source": [
    "df = pd.read_csv(\"../../data/train_4-26.csv\")\n",
    "df_original = pd.read_csv(\"../../data/train_4-26.csv\")\n",
    "pd.set_option('display.float_format', lambda x: '%.3f' % x)"
   ]
  },
  {
   "cell_type": "code",
   "execution_count": 92,
   "metadata": {
    "collapsed": false
   },
   "outputs": [],
   "source": [
    "feature_names = ['delta_imp_aport_var13_1y3',\n",
    "                 'delta_imp_aport_var17_1y3',\n",
    "                 'delta_imp_aport_var33_1y3',\n",
    "                 'delta_imp_compra_var44_1y3',\n",
    "                 'delta_imp_reemb_var13_1y3',\n",
    "                 'delta_imp_reemb_var17_1y3',\n",
    "                 'delta_imp_reemb_var33_1y3',\n",
    "                 'delta_imp_trasp_var17_in_1y3',\n",
    "                 'delta_imp_trasp_var17_out_1y3',\n",
    "                 'delta_imp_trasp_var33_in_1y3',\n",
    "                 'delta_imp_trasp_var33_out_1y3',\n",
    "                 'delta_imp_venta_var44_1y3',\n",
    "                 ]\n",
    "for feature_name in feature_names:\n",
    "    df[feature_name] = np.where((df[feature_name] != 0)&(df[feature_name] != -1)&(df[feature_name] != 9999999999),\n",
    "                       None, df[feature_name])"
   ]
  },
  {
   "cell_type": "code",
   "execution_count": 93,
   "metadata": {
    "collapsed": false
   },
   "outputs": [],
   "source": [
    "df[feature_name].replace(to_replace=9999999999, value=1, inplace=True)\n",
    "\n",
    "features_to_drop = ['delta_num_aport_var13_1y3', # because highly correlation with other columns\n",
    "                    'delta_num_aport_var17_1y3', # because highly correlation with other columns\n",
    "                    'delta_num_aport_var33_1y3', # because highly correlation with other columns\n",
    "                    'delta_num_compra_var44_1y3', # because highly correlation with other columns\n",
    "                    'delta_num_venta_var44_1y3', # because highly correlation with other columns\n",
    "                    'imp_amort_var18_ult1', # because almost no variance\n",
    "                    'saldo_var18', # because almost no variance\n",
    "                    'imp_amort_var34_ult1', # because almost no variance\n",
    "                    'saldo_var34', # because almost no variance\n",
    "                    ]\n",
    "for feature_name in features_to_drop:\n",
    "    df.drop(feature_name, axis=1, inplace=True)"
   ]
  },
  {
   "cell_type": "code",
   "execution_count": null,
   "metadata": {
    "collapsed": true
   },
   "outputs": [],
   "source": []
  }
 ],
 "metadata": {
  "kernelspec": {
   "display_name": "Python 2",
   "language": "python",
   "name": "python2"
  },
  "language_info": {
   "codemirror_mode": {
    "name": "ipython",
    "version": 2
   },
   "file_extension": ".py",
   "mimetype": "text/x-python",
   "name": "python",
   "nbconvert_exporter": "python",
   "pygments_lexer": "ipython2",
   "version": "2.7.11"
  }
 },
 "nbformat": 4,
 "nbformat_minor": 0
}
