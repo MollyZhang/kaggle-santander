{
 "cells": [
  {
   "cell_type": "code",
   "execution_count": 86,
   "metadata": {
    "collapsed": true
   },
   "outputs": [],
   "source": [
    "import pandas as pd\n",
    "import pandas_profiling\n",
    "import numpy as np"
   ]
  },
  {
   "cell_type": "code",
   "execution_count": 94,
   "metadata": {
    "collapsed": true
   },
   "outputs": [],
   "source": [
    "df = pd.read_csv(\"../../data/train_4-26.csv\")\n",
    "df_original = pd.read_csv(\"../../data/train_4-26.csv\")\n",
    "pd.set_option('display.float_format', lambda x: '%.3f' % x)"
   ]
  },
  {
   "cell_type": "code",
   "execution_count": 95,
   "metadata": {
    "collapsed": false
   },
   "outputs": [],
   "source": [
    "feature_names = ['delta_imp_aport_var13_1y3',\n",
    "                 'delta_imp_aport_var17_1y3',\n",
    "                 'delta_imp_aport_var33_1y3',\n",
    "                 'delta_imp_compra_var44_1y3',\n",
    "                 'delta_imp_reemb_var13_1y3',\n",
    "                 'delta_imp_reemb_var17_1y3',\n",
    "                 'delta_imp_reemb_var33_1y3',\n",
    "                 'delta_imp_trasp_var17_in_1y3',\n",
    "                 'delta_imp_trasp_var17_out_1y3',\n",
    "                 'delta_imp_trasp_var33_in_1y3',\n",
    "                 'delta_imp_trasp_var33_out_1y3',\n",
    "                 'delta_imp_venta_var44_1y3',\n",
    "                 ]\n",
    "for feature_name in feature_names:\n",
    "    df[feature_name] = np.where((df[feature_name] != 0)&(df[feature_name] != -1)&(df[feature_name] != 9999999999),\n",
    "                       None, df[feature_name])"
   ]
  },
  {
   "cell_type": "code",
   "execution_count": 96,
   "metadata": {
    "collapsed": false
   },
   "outputs": [],
   "source": [
    "df[feature_name].replace(to_replace=9999999999, value=1, inplace=True)\n",
    "\n",
    "features_to_drop = ['delta_num_aport_var13_1y3', # because highly correlation with other columns\n",
    "                    'delta_num_aport_var17_1y3', # because highly correlation with other columns\n",
    "                    'delta_num_aport_var33_1y3', # because highly correlation with other columns\n",
    "                    'delta_num_compra_var44_1y3', # because highly correlation with other columns\n",
    "                    'delta_num_venta_var44_1y3', # because highly correlation with other columns\n",
    "                    'imp_amort_var18_ult1', # because almost no variance\n",
    "                    'saldo_var18', # because almost no variance\n",
    "                    'imp_amort_var34_ult1', # because almost no variance\n",
    "                    'saldo_var34', # because almost no variance\n",
    "                    ]\n",
    "for feature_name in features_to_drop:\n",
    "    df.drop(feature_name, axis=1, inplace=True)"
   ]
  },
  {
   "cell_type": "code",
   "execution_count": 222,
   "metadata": {
    "collapsed": false,
    "scrolled": false
   },
   "outputs": [
    {
     "name": "stdout",
     "output_type": "stream",
     "text": [
      "0          76018\n",
      "3000000        1\n",
      "300000         1\n",
      "Name: saldo_var18, dtype: int64\n",
      "0.000        75734\n",
      "900.000          2\n",
      "4035.000         2\n",
      "914.520          1\n",
      "281.760          1\n",
      "979.950          1\n",
      "56.010           1\n",
      "47.700           1\n",
      "435.780          1\n",
      "550.320          1\n",
      "251.730          1\n",
      "648.240          1\n",
      "36000.000        1\n",
      "1935.030         1\n",
      "1056.060         1\n",
      "152.550          1\n",
      "1664.100         1\n",
      "774.390          1\n",
      "1776.120         1\n",
      "130.500          1\n",
      "101.520          1\n",
      "934.950          1\n",
      "7214.670         1\n",
      "97.590           1\n",
      "400.200          1\n",
      "1055.580         1\n",
      "612.360          1\n",
      "735.330          1\n",
      "1010.100         1\n",
      "311.970          1\n",
      "             ...  \n",
      "579.240          1\n",
      "5497.200         1\n",
      "643.650          1\n",
      "381.150          1\n",
      "188.880          1\n",
      "819.120          1\n",
      "834.960          1\n",
      "43.500           1\n",
      "2593.470         1\n",
      "315.330          1\n",
      "440.280          1\n",
      "1987.470         1\n",
      "192.240          1\n",
      "29.910           1\n",
      "2841.450         1\n",
      "60.180           1\n",
      "1021.680         1\n",
      "5427.810         1\n",
      "570.180          1\n",
      "828.180          1\n",
      "69.180           1\n",
      "678.480          1\n",
      "311.520          1\n",
      "930.330          1\n",
      "1067.100         1\n",
      "2105.430         1\n",
      "1495.800         1\n",
      "-0.900           1\n",
      "1846.770         1\n",
      "2887.890         1\n",
      "Name: saldo_var1, dtype: int64\n"
     ]
    }
   ],
   "source": [
    "print df_original['saldo_var18'].value_counts()\n",
    "print df['saldo_var1'].value_counts()\n",
    "\n",
    "\n",
    "\n",
    "\n",
    "\n",
    "\n"
   ]
  },
  {
   "cell_type": "code",
   "execution_count": 231,
   "metadata": {
    "collapsed": false
   },
   "outputs": [
    {
     "name": "stdout",
     "output_type": "stream",
     "text": [
      "117310.979    14868\n",
      "451931.220       16\n",
      "463625.160       12\n",
      "288997.440       11\n",
      "104563.800       11\n",
      "236690.340        8\n",
      "104644.410        7\n",
      "125722.440        7\n",
      "128318.520        7\n",
      "329603.970        7\n",
      "67088.310         7\n",
      "70813.800         6\n",
      "97639.560         6\n",
      "163432.470        6\n",
      "100466.730        6\n",
      "168733.620        6\n",
      "185385.690        6\n",
      "105260.880        6\n",
      "208961.790        5\n",
      "121603.020        5\n",
      "53324.460         5\n",
      "131353.470        5\n",
      "71302.530         5\n",
      "126065.040        5\n",
      "192920.760        5\n",
      "185784.720        5\n",
      "229351.650        5\n",
      "33184.020         5\n",
      "63820.890         5\n",
      "276030.570        5\n",
      "              ...  \n",
      "60641.190         1\n",
      "116348.850        1\n",
      "260050.500        1\n",
      "138685.650        1\n",
      "259491.210        1\n",
      "38497.500         1\n",
      "169253.910        1\n",
      "53706.630         1\n",
      "124985.760        1\n",
      "122917.860        1\n",
      "63206.880         1\n",
      "119542.260        1\n",
      "144531.990        1\n",
      "50716.080         1\n",
      "109296.060        1\n",
      "79250.400         1\n",
      "95574.990         1\n",
      "62236.320         1\n",
      "32417.520         1\n",
      "102904.950        1\n",
      "134462.370        1\n",
      "58373.520         1\n",
      "154694.790        1\n",
      "110788.440        1\n",
      "46643.670         1\n",
      "45838.110         1\n",
      "115894.500        1\n",
      "110581.170        1\n",
      "167445.270        1\n",
      "19546.500         1\n",
      "Name: var38, dtype: int64\n"
     ]
    }
   ],
   "source": [
    "print df['var38'].value_counts()"
   ]
  },
  {
   "cell_type": "code",
   "execution_count": null,
   "metadata": {
    "collapsed": true
   },
   "outputs": [],
   "source": []
  }
 ],
 "metadata": {
  "kernelspec": {
   "display_name": "Python 2",
   "language": "python",
   "name": "python2"
  },
  "language_info": {
   "codemirror_mode": {
    "name": "ipython",
    "version": 2
   },
   "file_extension": ".py",
   "mimetype": "text/x-python",
   "name": "python",
   "nbconvert_exporter": "python",
   "pygments_lexer": "ipython2",
   "version": "2.7.11"
  }
 },
 "nbformat": 4,
 "nbformat_minor": 0
}
