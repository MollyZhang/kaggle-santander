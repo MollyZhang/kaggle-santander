{
 "cells": [
  {
   "cell_type": "code",
   "execution_count": 86,
   "metadata": {
    "collapsed": true
   },
   "outputs": [],
   "source": [
    "import pandas as pd\n",
    "import pandas_profiling\n",
    "import numpy as np"
   ]
  },
  {
   "cell_type": "code",
   "execution_count": 94,
   "metadata": {
    "collapsed": true
   },
   "outputs": [],
   "source": [
    "df = pd.read_csv(\"../../data/train_4-26.csv\")\n",
    "df_original = pd.read_csv(\"../../data/train_4-26.csv\")\n",
    "pd.set_option('display.float_format', lambda x: '%.3f' % x)"
   ]
  },
  {
   "cell_type": "code",
   "execution_count": 95,
   "metadata": {
    "collapsed": false
   },
   "outputs": [],
   "source": [
    "feature_names = ['delta_imp_aport_var13_1y3',\n",
    "                 'delta_imp_aport_var17_1y3',\n",
    "                 'delta_imp_aport_var33_1y3',\n",
    "                 'delta_imp_compra_var44_1y3',\n",
    "                 'delta_imp_reemb_var13_1y3',\n",
    "                 'delta_imp_reemb_var17_1y3',\n",
    "                 'delta_imp_reemb_var33_1y3',\n",
    "                 'delta_imp_trasp_var17_in_1y3',\n",
    "                 'delta_imp_trasp_var17_out_1y3',\n",
    "                 'delta_imp_trasp_var33_in_1y3',\n",
    "                 'delta_imp_trasp_var33_out_1y3',\n",
    "                 'delta_imp_venta_var44_1y3',\n",
    "                 ]\n",
    "for feature_name in feature_names:\n",
    "    df[feature_name] = np.where((df[feature_name] != 0)&(df[feature_name] != -1)&(df[feature_name] != 9999999999),\n",
    "                       None, df[feature_name])"
   ]
  },
  {
   "cell_type": "code",
   "execution_count": 96,
   "metadata": {
    "collapsed": false
   },
   "outputs": [],
   "source": [
    "df[feature_name].replace(to_replace=9999999999, value=1, inplace=True)\n",
    "\n",
    "features_to_drop = ['delta_num_aport_var13_1y3', # because highly correlation with other columns\n",
    "                    'delta_num_aport_var17_1y3', # because highly correlation with other columns\n",
    "                    'delta_num_aport_var33_1y3', # because highly correlation with other columns\n",
    "                    'delta_num_compra_var44_1y3', # because highly correlation with other columns\n",
    "                    'delta_num_venta_var44_1y3', # because highly correlation with other columns\n",
    "                    'imp_amort_var18_ult1', # because almost no variance\n",
    "                    'saldo_var18', # because almost no variance\n",
    "                    'imp_amort_var34_ult1', # because almost no variance\n",
    "                    'saldo_var34', # because almost no variance\n",
    "                    ]\n",
    "for feature_name in features_to_drop:\n",
    "    df.drop(feature_name, axis=1, inplace=True)"
   ]
  },
  {
   "cell_type": "code",
   "execution_count": 159,
   "metadata": {
    "collapsed": false,
    "scrolled": false
   },
   "outputs": [
    {
     "name": "stdout",
     "output_type": "stream",
     "text": [
      "0     64766\n",
      "3      7981\n",
      "6      2271\n",
      "9       684\n",
      "12      199\n",
      "15       65\n",
      "18       28\n",
      "21        8\n",
      "24        7\n",
      "27        4\n",
      "33        2\n",
      "30        2\n",
      "51        1\n",
      "48        1\n",
      "78        1\n",
      "Name: num_med_var22_ult3, dtype: int64\n",
      "0      49954\n",
      "3       9176\n",
      "6       5636\n",
      "9       3758\n",
      "12      2534\n",
      "15      1689\n",
      "18      1084\n",
      "21       711\n",
      "24       476\n",
      "27       300\n",
      "30       242\n",
      "33       142\n",
      "36        84\n",
      "39        61\n",
      "42        54\n",
      "45        29\n",
      "48        23\n",
      "54        13\n",
      "51        13\n",
      "57         9\n",
      "60         6\n",
      "66         5\n",
      "72         5\n",
      "63         3\n",
      "81         3\n",
      "75         2\n",
      "93         2\n",
      "144        1\n",
      "87         1\n",
      "159        1\n",
      "99         1\n",
      "102        1\n",
      "234        1\n",
      "Name: num_var22_ult3, dtype: int64\n"
     ]
    }
   ],
   "source": [
    "print df['num_med_var22_ult3'].value_counts()\n",
    "print df['num_var22_ult3'].value_counts()\n",
    "\n",
    "\n",
    "\n",
    "\n"
   ]
  },
  {
   "cell_type": "code",
   "execution_count": null,
   "metadata": {
    "collapsed": true
   },
   "outputs": [],
   "source": []
  }
 ],
 "metadata": {
  "kernelspec": {
   "display_name": "Python 2",
   "language": "python",
   "name": "python2"
  },
  "language_info": {
   "codemirror_mode": {
    "name": "ipython",
    "version": 2
   },
   "file_extension": ".py",
   "mimetype": "text/x-python",
   "name": "python",
   "nbconvert_exporter": "python",
   "pygments_lexer": "ipython2",
   "version": "2.7.11"
  }
 },
 "nbformat": 4,
 "nbformat_minor": 0
}
