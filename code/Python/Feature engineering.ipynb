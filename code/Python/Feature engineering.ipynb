{
 "cells": [
  {
   "cell_type": "code",
   "execution_count": 86,
   "metadata": {
    "collapsed": true
   },
   "outputs": [],
   "source": [
    "import pandas as pd\n",
    "import pandas_profiling\n",
    "import numpy as np"
   ]
  },
  {
   "cell_type": "code",
   "execution_count": 94,
   "metadata": {
    "collapsed": true
   },
   "outputs": [],
   "source": [
    "df = pd.read_csv(\"../../data/train_4-26.csv\")\n",
    "df_original = pd.read_csv(\"../../data/train_4-26.csv\")\n",
    "pd.set_option('display.float_format', lambda x: '%.3f' % x)"
   ]
  },
  {
   "cell_type": "code",
   "execution_count": 95,
   "metadata": {
    "collapsed": false
   },
   "outputs": [],
   "source": [
    "feature_names = ['delta_imp_aport_var13_1y3',\n",
    "                 'delta_imp_aport_var17_1y3',\n",
    "                 'delta_imp_aport_var33_1y3',\n",
    "                 'delta_imp_compra_var44_1y3',\n",
    "                 'delta_imp_reemb_var13_1y3',\n",
    "                 'delta_imp_reemb_var17_1y3',\n",
    "                 'delta_imp_reemb_var33_1y3',\n",
    "                 'delta_imp_trasp_var17_in_1y3',\n",
    "                 'delta_imp_trasp_var17_out_1y3',\n",
    "                 'delta_imp_trasp_var33_in_1y3',\n",
    "                 'delta_imp_trasp_var33_out_1y3',\n",
    "                 'delta_imp_venta_var44_1y3',\n",
    "                 ]\n",
    "for feature_name in feature_names:\n",
    "    df[feature_name] = np.where((df[feature_name] != 0)&(df[feature_name] != -1)&(df[feature_name] != 9999999999),\n",
    "                       None, df[feature_name])"
   ]
  },
  {
   "cell_type": "code",
   "execution_count": 96,
   "metadata": {
    "collapsed": false
   },
   "outputs": [],
   "source": [
    "df[feature_name].replace(to_replace=9999999999, value=1, inplace=True)\n",
    "\n",
    "features_to_drop = ['delta_num_aport_var13_1y3', # because highly correlation with other columns\n",
    "                    'delta_num_aport_var17_1y3', # because highly correlation with other columns\n",
    "                    'delta_num_aport_var33_1y3', # because highly correlation with other columns\n",
    "                    'delta_num_compra_var44_1y3', # because highly correlation with other columns\n",
    "                    'delta_num_venta_var44_1y3', # because highly correlation with other columns\n",
    "                    'imp_amort_var18_ult1', # because almost no variance\n",
    "                    'saldo_var18', # because almost no variance\n",
    "                    'imp_amort_var34_ult1', # because almost no variance\n",
    "                    'saldo_var34', # because almost no variance\n",
    "                    ]\n",
    "for feature_name in features_to_drop:\n",
    "    df.drop(feature_name, axis=1, inplace=True)"
   ]
  },
  {
   "cell_type": "code",
   "execution_count": 222,
   "metadata": {
    "collapsed": false,
    "scrolled": false
   },
   "outputs": [
    {
     "name": "stdout",
     "output_type": "stream",
     "text": [
      "0          76018\n",
      "3000000        1\n",
      "300000         1\n",
      "Name: saldo_var18, dtype: int64\n",
      "0.000        75734\n",
      "900.000          2\n",
      "4035.000         2\n",
      "914.520          1\n",
      "281.760          1\n",
      "979.950          1\n",
      "56.010           1\n",
      "47.700           1\n",
      "435.780          1\n",
      "550.320          1\n",
      "251.730          1\n",
      "648.240          1\n",
      "36000.000        1\n",
      "1935.030         1\n",
      "1056.060         1\n",
      "152.550          1\n",
      "1664.100         1\n",
      "774.390          1\n",
      "1776.120         1\n",
      "130.500          1\n",
      "101.520          1\n",
      "934.950          1\n",
      "7214.670         1\n",
      "97.590           1\n",
      "400.200          1\n",
      "1055.580         1\n",
      "612.360          1\n",
      "735.330          1\n",
      "1010.100         1\n",
      "311.970          1\n",
      "             ...  \n",
      "579.240          1\n",
      "5497.200         1\n",
      "643.650          1\n",
      "381.150          1\n",
      "188.880          1\n",
      "819.120          1\n",
      "834.960          1\n",
      "43.500           1\n",
      "2593.470         1\n",
      "315.330          1\n",
      "440.280          1\n",
      "1987.470         1\n",
      "192.240          1\n",
      "29.910           1\n",
      "2841.450         1\n",
      "60.180           1\n",
      "1021.680         1\n",
      "5427.810         1\n",
      "570.180          1\n",
      "828.180          1\n",
      "69.180           1\n",
      "678.480          1\n",
      "311.520          1\n",
      "930.330          1\n",
      "1067.100         1\n",
      "2105.430         1\n",
      "1495.800         1\n",
      "-0.900           1\n",
      "1846.770         1\n",
      "2887.890         1\n",
      "Name: saldo_var1, dtype: int64\n"
     ]
    }
   ],
   "source": [
    "print df_original['saldo_var18'].value_counts()\n",
    "print df['saldo_var1'].value_counts()\n",
    "\n",
    "\n",
    "\n",
    "\n",
    "\n",
    "\n"
   ]
  },
  {
   "cell_type": "code",
   "execution_count": 226,
   "metadata": {
    "collapsed": false
   },
   "outputs": [
    {
     "name": "stdout",
     "output_type": "stream",
     "text": [
      "0.000         20310\n",
      "3.000         18290\n",
      "90.000         5236\n",
      "30.000         1603\n",
      "15.000         1477\n",
      "6.000           926\n",
      "150.000         823\n",
      "60.000          686\n",
      "300.000         400\n",
      "120.000         305\n",
      "93.000          196\n",
      "9.000           153\n",
      "600.000         149\n",
      "900.000         137\n",
      "450.000         115\n",
      "153.000         104\n",
      "45.000           97\n",
      "180.000          96\n",
      "1500.000         92\n",
      "3000.000         91\n",
      "12.000           84\n",
      "1.500            73\n",
      "90000.000        71\n",
      "0.300            68\n",
      "150000.000       65\n",
      "300000.000       65\n",
      "303.000          65\n",
      "60000.000        61\n",
      "30000.000        59\n",
      "750.000          58\n",
      "              ...  \n",
      "-35.130           1\n",
      "12071.310         1\n",
      "72015.000         1\n",
      "2359.080          1\n",
      "48117.720         1\n",
      "38.520            1\n",
      "379.320           1\n",
      "2748.420          1\n",
      "300771.870        1\n",
      "72165.000         1\n",
      "748.260           1\n",
      "2713.680          1\n",
      "10233.840         1\n",
      "1350.060          1\n",
      "264.810           1\n",
      "86.340            1\n",
      "72090.000         1\n",
      "25912.560         1\n",
      "600790.770        1\n",
      "3600.540          1\n",
      "669.150           1\n",
      "180300.600        1\n",
      "249006.000        1\n",
      "32716.380         1\n",
      "2713.200          1\n",
      "150395.370        1\n",
      "9823.320          1\n",
      "122.280           1\n",
      "204.180           1\n",
      "7285.050          1\n",
      "Name: saldo_var30, dtype: int64\n"
     ]
    }
   ],
   "source": [
    "print df['saldo_var30'].value_counts()"
   ]
  },
  {
   "cell_type": "code",
   "execution_count": null,
   "metadata": {
    "collapsed": true
   },
   "outputs": [],
   "source": []
  }
 ],
 "metadata": {
  "kernelspec": {
   "display_name": "Python 2",
   "language": "python",
   "name": "python2"
  },
  "language_info": {
   "codemirror_mode": {
    "name": "ipython",
    "version": 2
   },
   "file_extension": ".py",
   "mimetype": "text/x-python",
   "name": "python",
   "nbconvert_exporter": "python",
   "pygments_lexer": "ipython2",
   "version": "2.7.11"
  }
 },
 "nbformat": 4,
 "nbformat_minor": 0
}
