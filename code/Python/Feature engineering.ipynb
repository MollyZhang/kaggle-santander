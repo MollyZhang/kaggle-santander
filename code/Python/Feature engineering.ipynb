{
 "cells": [
  {
   "cell_type": "code",
   "execution_count": 86,
   "metadata": {
    "collapsed": true
   },
   "outputs": [],
   "source": [
    "import pandas as pd\n",
    "import pandas_profiling\n",
    "import numpy as np"
   ]
  },
  {
   "cell_type": "code",
   "execution_count": 94,
   "metadata": {
    "collapsed": true
   },
   "outputs": [],
   "source": [
    "df = pd.read_csv(\"../../data/train_4-26.csv\")\n",
    "df_original = pd.read_csv(\"../../data/train_4-26.csv\")\n",
    "pd.set_option('display.float_format', lambda x: '%.3f' % x)"
   ]
  },
  {
   "cell_type": "code",
   "execution_count": 95,
   "metadata": {
    "collapsed": false
   },
   "outputs": [],
   "source": [
    "feature_names = ['delta_imp_aport_var13_1y3',\n",
    "                 'delta_imp_aport_var17_1y3',\n",
    "                 'delta_imp_aport_var33_1y3',\n",
    "                 'delta_imp_compra_var44_1y3',\n",
    "                 'delta_imp_reemb_var13_1y3',\n",
    "                 'delta_imp_reemb_var17_1y3',\n",
    "                 'delta_imp_reemb_var33_1y3',\n",
    "                 'delta_imp_trasp_var17_in_1y3',\n",
    "                 'delta_imp_trasp_var17_out_1y3',\n",
    "                 'delta_imp_trasp_var33_in_1y3',\n",
    "                 'delta_imp_trasp_var33_out_1y3',\n",
    "                 'delta_imp_venta_var44_1y3',\n",
    "                 ]\n",
    "for feature_name in feature_names:\n",
    "    df[feature_name] = np.where((df[feature_name] != 0)&(df[feature_name] != -1)&(df[feature_name] != 9999999999),\n",
    "                       None, df[feature_name])"
   ]
  },
  {
   "cell_type": "code",
   "execution_count": 96,
   "metadata": {
    "collapsed": false
   },
   "outputs": [],
   "source": [
    "df[feature_name].replace(to_replace=9999999999, value=1, inplace=True)\n",
    "\n",
    "features_to_drop = ['delta_num_aport_var13_1y3', # because highly correlation with other columns\n",
    "                    'delta_num_aport_var17_1y3', # because highly correlation with other columns\n",
    "                    'delta_num_aport_var33_1y3', # because highly correlation with other columns\n",
    "                    'delta_num_compra_var44_1y3', # because highly correlation with other columns\n",
    "                    'delta_num_venta_var44_1y3', # because highly correlation with other columns\n",
    "                    'imp_amort_var18_ult1', # because almost no variance\n",
    "                    'saldo_var18', # because almost no variance\n",
    "                    'imp_amort_var34_ult1', # because almost no variance\n",
    "                    'saldo_var34', # because almost no variance\n",
    "                    ]\n",
    "for feature_name in features_to_drop:\n",
    "    df.drop(feature_name, axis=1, inplace=True)"
   ]
  },
  {
   "cell_type": "code",
   "execution_count": 200,
   "metadata": {
    "collapsed": false,
    "scrolled": false
   },
   "outputs": [
    {
     "name": "stdout",
     "output_type": "stream",
     "text": [
      "0    75149\n",
      "3      869\n",
      "6        2\n",
      "Name: num_var1_0, dtype: int64\n",
      "0    75152\n",
      "1      868\n",
      "Name: ind_var40_0, dtype: int64\n",
      "0     0\n",
      "1     0\n",
      "2     0\n",
      "3     0\n",
      "4     0\n",
      "5     0\n",
      "6     0\n",
      "7     0\n",
      "8     0\n",
      "9     0\n",
      "10    0\n",
      "11    0\n",
      "12    0\n",
      "13    0\n",
      "14    0\n",
      "15    0\n",
      "16    0\n",
      "17    0\n",
      "18    0\n",
      "19    0\n",
      "Name: num_var1_0, dtype: int64\n",
      "0     0\n",
      "1     0\n",
      "2     0\n",
      "3     0\n",
      "4     0\n",
      "5     0\n",
      "6     0\n",
      "7     0\n",
      "8     0\n",
      "9     0\n",
      "10    0\n",
      "11    0\n",
      "12    0\n",
      "13    0\n",
      "14    0\n",
      "15    0\n",
      "16    0\n",
      "17    0\n",
      "18    0\n",
      "19    0\n",
      "Name: ind_var40_0, dtype: int64\n"
     ]
    }
   ],
   "source": [
    "print df['num_var1_0'].value_counts()\n",
    "print df['ind_var40_0'].value_counts()\n",
    "print df['num_var1_0'].head(20)\n",
    "print df['ind_var40_0'].head(20)\n",
    "\n",
    "\n",
    "\n",
    "\n"
   ]
  },
  {
   "cell_type": "code",
   "execution_count": 204,
   "metadata": {
    "collapsed": false
   },
   "outputs": [
    {
     "name": "stdout",
     "output_type": "stream",
     "text": [
      "0     75741\n",
      "3       217\n",
      "6        31\n",
      "9        14\n",
      "12        7\n",
      "15        6\n",
      "18        2\n",
      "27        1\n",
      "21        1\n",
      "Name: num_var31, dtype: int64\n"
     ]
    }
   ],
   "source": [
    "print df['num_var31'].value_counts()"
   ]
  },
  {
   "cell_type": "code",
   "execution_count": null,
   "metadata": {
    "collapsed": true
   },
   "outputs": [],
   "source": []
  }
 ],
 "metadata": {
  "kernelspec": {
   "display_name": "Python 2",
   "language": "python",
   "name": "python2"
  },
  "language_info": {
   "codemirror_mode": {
    "name": "ipython",
    "version": 2
   },
   "file_extension": ".py",
   "mimetype": "text/x-python",
   "name": "python",
   "nbconvert_exporter": "python",
   "pygments_lexer": "ipython2",
   "version": "2.7.11"
  }
 },
 "nbformat": 4,
 "nbformat_minor": 0
}
