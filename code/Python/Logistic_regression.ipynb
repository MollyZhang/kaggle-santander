{
 "cells": [
  {
   "cell_type": "code",
   "execution_count": 1,
   "metadata": {
    "collapsed": false
   },
   "outputs": [],
   "source": [
    "import pandas as pd"
   ]
  },
  {
   "cell_type": "code",
   "execution_count": 2,
   "metadata": {
    "collapsed": false
   },
   "outputs": [],
   "source": [
    "df = pd.read_csv(\"../../data/train.csv\")\n",
    "\n",
    "\n"
   ]
  },
  {
   "cell_type": "code",
   "execution_count": 5,
   "metadata": {
    "collapsed": false
   },
   "outputs": [
    {
     "name": "stdout",
     "output_type": "stream",
     "text": [
      "                  ID           var3         var15  imp_ent_var16_ult1  \\\n",
      "count   76020.000000   76020.000000  76020.000000        76020.000000   \n",
      "mean    75964.050723   -1523.199277     33.212865           86.208265   \n",
      "std     43781.947379   39033.462364     12.956486         1614.757313   \n",
      "min         1.000000 -999999.000000      5.000000            0.000000   \n",
      "25%     38104.750000       2.000000     23.000000            0.000000   \n",
      "50%     76043.000000       2.000000     28.000000            0.000000   \n",
      "75%    113748.750000       2.000000     40.000000            0.000000   \n",
      "max    151838.000000     238.000000    105.000000       210000.000000   \n",
      "\n",
      "       imp_op_var39_comer_ult1  imp_op_var39_comer_ult3  \\\n",
      "count             76020.000000             76020.000000   \n",
      "mean                 72.363067               119.529632   \n",
      "std                 339.315831               546.266294   \n",
      "min                   0.000000                 0.000000   \n",
      "25%                   0.000000                 0.000000   \n",
      "50%                   0.000000                 0.000000   \n",
      "75%                   0.000000                 0.000000   \n",
      "max               12888.030000             21024.810000   \n",
      "\n",
      "       imp_op_var40_comer_ult1  imp_op_var40_comer_ult3  \\\n",
      "count             76020.000000             76020.000000   \n",
      "mean                  3.559130                 6.472698   \n",
      "std                  93.155749               153.737066   \n",
      "min                   0.000000                 0.000000   \n",
      "25%                   0.000000                 0.000000   \n",
      "50%                   0.000000                 0.000000   \n",
      "75%                   0.000000                 0.000000   \n",
      "max                8237.820000             11073.570000   \n",
      "\n",
      "       imp_op_var40_efect_ult1  imp_op_var40_efect_ult3      ...       \\\n",
      "count             76020.000000             76020.000000      ...        \n",
      "mean                  0.412946                 0.567352      ...        \n",
      "std                  30.604864                36.513513      ...        \n",
      "min                   0.000000                 0.000000      ...        \n",
      "25%                   0.000000                 0.000000      ...        \n",
      "50%                   0.000000                 0.000000      ...        \n",
      "75%                   0.000000                 0.000000      ...        \n",
      "max                6600.000000              6600.000000      ...        \n",
      "\n",
      "       saldo_medio_var33_hace2  saldo_medio_var33_hace3  \\\n",
      "count             76020.000000             76020.000000   \n",
      "mean                  7.935824                 1.365146   \n",
      "std                 455.887218               113.959637   \n",
      "min                   0.000000                 0.000000   \n",
      "25%                   0.000000                 0.000000   \n",
      "50%                   0.000000                 0.000000   \n",
      "75%                   0.000000                 0.000000   \n",
      "max               50003.880000             20385.720000   \n",
      "\n",
      "       saldo_medio_var33_ult1  saldo_medio_var33_ult3  \\\n",
      "count            76020.000000            76020.000000   \n",
      "mean                12.215580                8.784074   \n",
      "std                783.207399              538.439211   \n",
      "min                  0.000000                0.000000   \n",
      "25%                  0.000000                0.000000   \n",
      "50%                  0.000000                0.000000   \n",
      "75%                  0.000000                0.000000   \n",
      "max             138831.630000            91778.730000   \n",
      "\n",
      "       saldo_medio_var44_hace2  saldo_medio_var44_hace3  \\\n",
      "count             76020.000000             76020.000000   \n",
      "mean                 31.505324                 1.858575   \n",
      "std                2013.125393               147.786584   \n",
      "min                   0.000000                 0.000000   \n",
      "25%                   0.000000                 0.000000   \n",
      "50%                   0.000000                 0.000000   \n",
      "75%                   0.000000                 0.000000   \n",
      "max              438329.220000             24650.010000   \n",
      "\n",
      "       saldo_medio_var44_ult1  saldo_medio_var44_ult3            var38  \\\n",
      "count            76020.000000            76020.000000     76020.000000   \n",
      "mean                76.026165               56.614351    117235.809430   \n",
      "std               4040.337842             2852.579397    182664.598503   \n",
      "min                  0.000000                0.000000      5163.750000   \n",
      "25%                  0.000000                0.000000     67870.612500   \n",
      "50%                  0.000000                0.000000    106409.160000   \n",
      "75%                  0.000000                0.000000    118756.252500   \n",
      "max             681462.900000           397884.300000  22034738.760000   \n",
      "\n",
      "             TARGET  \n",
      "count  76020.000000  \n",
      "mean       0.039569  \n",
      "std        0.194945  \n",
      "min        0.000000  \n",
      "25%        0.000000  \n",
      "50%        0.000000  \n",
      "75%        0.000000  \n",
      "max        1.000000  \n",
      "\n",
      "[8 rows x 371 columns]\n"
     ]
    }
   ],
   "source": [
    "print df.describe()"
   ]
  },
  {
   "cell_type": "code",
   "execution_count": null,
   "metadata": {
    "collapsed": true
   },
   "outputs": [],
   "source": []
  }
 ],
 "metadata": {
  "kernelspec": {
   "display_name": "Python 2",
   "language": "python",
   "name": "python2"
  },
  "language_info": {
   "codemirror_mode": {
    "name": "ipython",
    "version": 2
   },
   "file_extension": ".py",
   "mimetype": "text/x-python",
   "name": "python",
   "nbconvert_exporter": "python",
   "pygments_lexer": "ipython2",
   "version": "2.7.11"
  }
 },
 "nbformat": 4,
 "nbformat_minor": 0
}
